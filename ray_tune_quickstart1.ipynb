{
 "cells": [
  {
   "cell_type": "code",
   "execution_count": 1,
   "metadata": {},
   "outputs": [
    {
     "data": {
      "text/html": [
       "<style>\n",
       "    :root {\n",
       "        --jp-ui-font-color1: #cccccc;\n",
       "    }\n",
       "</style>\n"
      ],
      "text/plain": [
       "<IPython.core.display.HTML object>"
      ]
     },
     "metadata": {},
     "output_type": "display_data"
    }
   ],
   "source": [
    "%%html\n",
    "<style>\n",
    "    :root {\n",
    "        --jp-ui-font-color1: #cccccc;\n",
    "    }\n",
    "</style>"
   ]
  },
  {
   "cell_type": "code",
   "execution_count": 2,
   "metadata": {},
   "outputs": [
    {
     "name": "stderr",
     "output_type": "stream",
     "text": [
      "2023-10-12 01:52:18,050\tINFO worker.py:1544 -- Started a local Ray instance. View the dashboard at \u001b[1m\u001b[32m127.0.0.1:8265 \u001b[39m\u001b[22m\n"
     ]
    },
    {
     "data": {
      "text/html": [
       "<div class=\"tuneStatus\">\n",
       "  <div style=\"display: flex;flex-direction: row\">\n",
       "    <div style=\"display: flex;flex-direction: column;\">\n",
       "      <h3>Tune Status</h3>\n",
       "      <table>\n",
       "<tbody>\n",
       "<tr><td>Current time:</td><td>2023-10-12 01:52:25</td></tr>\n",
       "<tr><td>Running for: </td><td>00:00:04.39        </td></tr>\n",
       "<tr><td>Memory:      </td><td>3.1/7.7 GiB        </td></tr>\n",
       "</tbody>\n",
       "</table>\n",
       "    </div>\n",
       "    <div class=\"vDivider\"></div>\n",
       "    <div class=\"systemInfo\">\n",
       "      <h3>System Info</h3>\n",
       "      Using FIFO scheduling algorithm.<br>Resources requested: 0/6 CPUs, 0/0 GPUs, 0.0/2.99 GiB heap, 0.0/1.5 GiB objects\n",
       "    </div>\n",
       "    \n",
       "  </div>\n",
       "  <div class=\"hDivider\"></div>\n",
       "  <div class=\"trialStatus\">\n",
       "    <h3>Trial Status</h3>\n",
       "    <table>\n",
       "<thead>\n",
       "<tr><th>Trial name           </th><th>status    </th><th>loc                </th><th style=\"text-align: right;\">    a</th><th style=\"text-align: right;\">  b</th><th style=\"text-align: right;\">  iter</th><th style=\"text-align: right;\">  total time (s)</th><th style=\"text-align: right;\">  score</th></tr>\n",
       "</thead>\n",
       "<tbody>\n",
       "<tr><td>objective_98bfe_00000</td><td>TERMINATED</td><td>172.25.226.29:30511</td><td style=\"text-align: right;\">0.001</td><td style=\"text-align: right;\">  1</td><td style=\"text-align: right;\">     1</td><td style=\"text-align: right;\">     0.000178337</td><td style=\"text-align: right;\"> 1     </td></tr>\n",
       "<tr><td>objective_98bfe_00001</td><td>TERMINATED</td><td>172.25.226.29:30569</td><td style=\"text-align: right;\">0.01 </td><td style=\"text-align: right;\">  1</td><td style=\"text-align: right;\">     1</td><td style=\"text-align: right;\">     0.000145435</td><td style=\"text-align: right;\"> 1.0001</td></tr>\n",
       "<tr><td>objective_98bfe_00002</td><td>TERMINATED</td><td>172.25.226.29:30571</td><td style=\"text-align: right;\">0.1  </td><td style=\"text-align: right;\">  3</td><td style=\"text-align: right;\">     1</td><td style=\"text-align: right;\">     0.000279665</td><td style=\"text-align: right;\"> 3.01  </td></tr>\n",
       "<tr><td>objective_98bfe_00003</td><td>TERMINATED</td><td>172.25.226.29:30572</td><td style=\"text-align: right;\">1    </td><td style=\"text-align: right;\">  1</td><td style=\"text-align: right;\">     1</td><td style=\"text-align: right;\">     0.000488281</td><td style=\"text-align: right;\"> 2     </td></tr>\n",
       "</tbody>\n",
       "</table>\n",
       "  </div>\n",
       "</div>\n",
       "<style>\n",
       ".tuneStatus {\n",
       "  color: var(--jp-ui-font-color1);\n",
       "}\n",
       ".tuneStatus .systemInfo {\n",
       "  display: flex;\n",
       "  flex-direction: column;\n",
       "}\n",
       ".tuneStatus td {\n",
       "  white-space: nowrap;\n",
       "}\n",
       ".tuneStatus .trialStatus {\n",
       "  display: flex;\n",
       "  flex-direction: column;\n",
       "}\n",
       ".tuneStatus h3 {\n",
       "  font-weight: bold;\n",
       "}\n",
       ".tuneStatus .hDivider {\n",
       "  border-bottom-width: var(--jp-border-width);\n",
       "  border-bottom-color: var(--jp-border-color0);\n",
       "  border-bottom-style: solid;\n",
       "}\n",
       ".tuneStatus .vDivider {\n",
       "  border-left-width: var(--jp-border-width);\n",
       "  border-left-color: var(--jp-border-color0);\n",
       "  border-left-style: solid;\n",
       "  margin: 0.5em 1em 0.5em 1em;\n",
       "}\n",
       "</style>\n"
      ],
      "text/plain": [
       "<IPython.core.display.HTML object>"
      ]
     },
     "metadata": {},
     "output_type": "display_data"
    },
    {
     "data": {
      "text/html": [
       "<div class=\"trialProgress\">\n",
       "  <h3>Trial Progress</h3>\n",
       "  <table>\n",
       "<thead>\n",
       "<tr><th>Trial name           </th><th>date               </th><th>done  </th><th>episodes_total  </th><th>experiment_id                   </th><th>experiment_tag  </th><th>hostname  </th><th style=\"text-align: right;\">  iterations_since_restore</th><th>node_ip      </th><th style=\"text-align: right;\">  pid</th><th style=\"text-align: right;\">  score</th><th style=\"text-align: right;\">  time_since_restore</th><th style=\"text-align: right;\">  time_this_iter_s</th><th style=\"text-align: right;\">  time_total_s</th><th style=\"text-align: right;\">  timestamp</th><th style=\"text-align: right;\">  timesteps_since_restore</th><th>timesteps_total  </th><th style=\"text-align: right;\">  training_iteration</th><th>trial_id   </th><th style=\"text-align: right;\">  warmup_time</th></tr>\n",
       "</thead>\n",
       "<tbody>\n",
       "<tr><td>objective_98bfe_00000</td><td>2023-10-12_01-52-23</td><td>True  </td><td>                </td><td>8013a151b6ba43f7ade63d43a53e7f3f</td><td>0_a=0.0010,b=1  </td><td>Coral     </td><td style=\"text-align: right;\">                         1</td><td>172.25.226.29</td><td style=\"text-align: right;\">30511</td><td style=\"text-align: right;\"> 1     </td><td style=\"text-align: right;\">         0.000178337</td><td style=\"text-align: right;\">       0.000178337</td><td style=\"text-align: right;\">   0.000178337</td><td style=\"text-align: right;\"> 1697071943</td><td style=\"text-align: right;\">                        0</td><td>                 </td><td style=\"text-align: right;\">                   1</td><td>98bfe_00000</td><td style=\"text-align: right;\">   0.00399923</td></tr>\n",
       "<tr><td>objective_98bfe_00001</td><td>2023-10-12_01-52-25</td><td>True  </td><td>                </td><td>11628f6ab4564b8bae4140f230d2ce4e</td><td>1_a=0.0100,b=1  </td><td>Coral     </td><td style=\"text-align: right;\">                         1</td><td>172.25.226.29</td><td style=\"text-align: right;\">30569</td><td style=\"text-align: right;\"> 1.0001</td><td style=\"text-align: right;\">         0.000145435</td><td style=\"text-align: right;\">       0.000145435</td><td style=\"text-align: right;\">   0.000145435</td><td style=\"text-align: right;\"> 1697071945</td><td style=\"text-align: right;\">                        0</td><td>                 </td><td style=\"text-align: right;\">                   1</td><td>98bfe_00001</td><td style=\"text-align: right;\">   0.00371408</td></tr>\n",
       "<tr><td>objective_98bfe_00002</td><td>2023-10-12_01-52-25</td><td>True  </td><td>                </td><td>72ceed069eff48c9b29f1eb9a60f0419</td><td>2_a=0.1000,b=3  </td><td>Coral     </td><td style=\"text-align: right;\">                         1</td><td>172.25.226.29</td><td style=\"text-align: right;\">30571</td><td style=\"text-align: right;\"> 3.01  </td><td style=\"text-align: right;\">         0.000279665</td><td style=\"text-align: right;\">       0.000279665</td><td style=\"text-align: right;\">   0.000279665</td><td style=\"text-align: right;\"> 1697071945</td><td style=\"text-align: right;\">                        0</td><td>                 </td><td style=\"text-align: right;\">                   1</td><td>98bfe_00002</td><td style=\"text-align: right;\">   0.00393963</td></tr>\n",
       "<tr><td>objective_98bfe_00003</td><td>2023-10-12_01-52-25</td><td>True  </td><td>                </td><td>13ce0a8313f44f53b0105e59faf792b5</td><td>3_a=1.0000,b=1  </td><td>Coral     </td><td style=\"text-align: right;\">                         1</td><td>172.25.226.29</td><td style=\"text-align: right;\">30572</td><td style=\"text-align: right;\"> 2     </td><td style=\"text-align: right;\">         0.000488281</td><td style=\"text-align: right;\">       0.000488281</td><td style=\"text-align: right;\">   0.000488281</td><td style=\"text-align: right;\"> 1697071945</td><td style=\"text-align: right;\">                        0</td><td>                 </td><td style=\"text-align: right;\">                   1</td><td>98bfe_00003</td><td style=\"text-align: right;\">   0.00552464</td></tr>\n",
       "</tbody>\n",
       "</table>\n",
       "</div>\n",
       "<style>\n",
       ".trialProgress {\n",
       "  display: flex;\n",
       "  flex-direction: column;\n",
       "  color: var(--jp-ui-font-color1);\n",
       "}\n",
       ".trialProgress h3 {\n",
       "  font-weight: bold;\n",
       "}\n",
       ".trialProgress td {\n",
       "  white-space: nowrap;\n",
       "}\n",
       "</style>\n"
      ],
      "text/plain": [
       "<IPython.core.display.HTML object>"
      ]
     },
     "metadata": {},
     "output_type": "display_data"
    },
    {
     "name": "stderr",
     "output_type": "stream",
     "text": [
      "2023-10-12 01:52:25,600\tINFO tune.py:798 -- Total run time: 5.90 seconds (4.37 seconds for the tuning loop).\n"
     ]
    }
   ],
   "source": [
    "\n",
    "# %%viztracer\n",
    "from ray import train, tune\n",
    "\n",
    "\n",
    "def objective(config):  # ①\n",
    "    score = config[\"a\"] ** 2 + config[\"b\"]\n",
    "    return {\"score\": score}\n",
    "\n",
    "\n",
    "search_space = {  # ②\n",
    "    \"a\": tune.grid_search([0.001, 0.01, 0.1, 1.0]),\n",
    "    \"b\": tune.choice([1, 2, 3]),\n",
    "}\n",
    "\n",
    "tuner = tune.Tuner(objective, param_space=search_space)  # ③\n",
    "\n",
    "results = tuner.fit()\n",
    "# print(results.get_best_result(metric=\"score\", mode=\"min\").config)"
   ]
  },
  {
   "cell_type": "code",
   "execution_count": 3,
   "metadata": {},
   "outputs": [
    {
     "data": {
      "text/html": [
       "<table>\n",
       "<tbody>\n",
       "<tr><td>Current time:</td><td>1    </td></tr>\n",
       "<tr><td>Running for: </td><td>2    </td></tr>\n",
       "<tr><td>Memory:      </td><td>3 GiB</td></tr>\n",
       "</tbody>\n",
       "</table>"
      ],
      "text/plain": [
       "'<table>\\n<tbody>\\n<tr><td>Current time:</td><td>1    </td></tr>\\n<tr><td>Running for: </td><td>2    </td></tr>\\n<tr><td>Memory:      </td><td>3 GiB</td></tr>\\n</tbody>\\n</table>'"
      ]
     },
     "execution_count": 3,
     "metadata": {},
     "output_type": "execute_result"
    }
   ],
   "source": [
    "from tabulate import tabulate\n",
    "status_table = tabulate(\n",
    "    [\n",
    "        (\"Current time:\", 1),\n",
    "        (\"Running for:\", 2),\n",
    "        (\"Memory:\", f\"3 GiB\"),\n",
    "    ],\n",
    "    tablefmt=\"html\",\n",
    ")\n",
    "status_table"
   ]
  },
  {
   "cell_type": "code",
   "execution_count": null,
   "metadata": {},
   "outputs": [],
   "source": []
  }
 ],
 "metadata": {
  "kernelspec": {
   "display_name": "py310",
   "language": "python",
   "name": "python3"
  },
  "language_info": {
   "codemirror_mode": {
    "name": "ipython",
    "version": 3
   },
   "file_extension": ".py",
   "mimetype": "text/x-python",
   "name": "python",
   "nbconvert_exporter": "python",
   "pygments_lexer": "ipython3",
   "version": "3.10.9"
  }
 },
 "nbformat": 4,
 "nbformat_minor": 2
}
