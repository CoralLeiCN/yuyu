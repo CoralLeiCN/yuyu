{
 "cells": [
  {
   "cell_type": "code",
   "execution_count": 1,
   "metadata": {},
   "outputs": [
    {
     "data": {
      "text/html": [
       "<style>\n",
       "    :root {\n",
       "        --jp-ui-font-color1: #cccccc;\n",
       "    }\n",
       "</style>\n"
      ],
      "text/plain": [
       "<IPython.core.display.HTML object>"
      ]
     },
     "metadata": {},
     "output_type": "display_data"
    }
   ],
   "source": [
    "%%html\n",
    "<style>\n",
    "    :root {\n",
    "        --jp-ui-font-color1: #cccccc;\n",
    "    }\n",
    "</style>"
   ]
  },
  {
   "cell_type": "markdown",
   "metadata": {},
   "source": [
    "the font color is not correct in vscode dark theme.\n",
    "my opened issue\n",
    "https://github.com/ray-project/ray/issues/40317"
   ]
  },
  {
   "cell_type": "code",
   "execution_count": 2,
   "metadata": {},
   "outputs": [
    {
     "name": "stdout",
     "output_type": "stream",
     "text": [
      "2.3.1\n"
     ]
    }
   ],
   "source": [
    "import ray\n",
    "\n",
    "print(ray.__version__)"
   ]
  },
  {
   "cell_type": "code",
   "execution_count": 3,
   "metadata": {},
   "outputs": [
    {
     "name": "stderr",
     "output_type": "stream",
     "text": [
      "2023-11-13 22:38:55,634\tINFO worker.py:1544 -- Started a local Ray instance. View the dashboard at \u001b[1m\u001b[32m127.0.0.1:8266 \u001b[39m\u001b[22m\n"
     ]
    },
    {
     "data": {
      "text/html": [
       "<div class=\"tuneStatus\">\n",
       "  <div style=\"display: flex;flex-direction: row\">\n",
       "    <div style=\"display: flex;flex-direction: column;\">\n",
       "      <h3>Tune Status</h3>\n",
       "      <table>\n",
       "<tbody>\n",
       "<tr><td>Current time:</td><td>2023-11-13 22:39:02</td></tr>\n",
       "<tr><td>Running for: </td><td>00:00:04.11        </td></tr>\n",
       "<tr><td>Memory:      </td><td>4.0/7.7 GiB        </td></tr>\n",
       "</tbody>\n",
       "</table>\n",
       "    </div>\n",
       "    <div class=\"vDivider\"></div>\n",
       "    <div class=\"systemInfo\">\n",
       "      <h3>System Info</h3>\n",
       "      Using FIFO scheduling algorithm.<br>Resources requested: 0/6 CPUs, 0/0 GPUs, 0.0/2.7 GiB heap, 0.0/1.35 GiB objects\n",
       "    </div>\n",
       "    \n",
       "  </div>\n",
       "  <div class=\"hDivider\"></div>\n",
       "  <div class=\"trialStatus\">\n",
       "    <h3>Trial Status</h3>\n",
       "    <table>\n",
       "<thead>\n",
       "<tr><th>Trial name           </th><th>status    </th><th>loc                </th><th style=\"text-align: right;\">    a</th><th style=\"text-align: right;\">  b</th><th style=\"text-align: right;\">  iter</th><th style=\"text-align: right;\">  total time (s)</th><th style=\"text-align: right;\">  score</th></tr>\n",
       "</thead>\n",
       "<tbody>\n",
       "<tr><td>objective_6e374_00000</td><td>TERMINATED</td><td>172.25.226.29:11664</td><td style=\"text-align: right;\">0.001</td><td style=\"text-align: right;\">  2</td><td style=\"text-align: right;\">     1</td><td style=\"text-align: right;\">     0.000207424</td><td style=\"text-align: right;\"> 2     </td></tr>\n",
       "<tr><td>objective_6e374_00001</td><td>TERMINATED</td><td>172.25.226.29:11721</td><td style=\"text-align: right;\">0.01 </td><td style=\"text-align: right;\">  1</td><td style=\"text-align: right;\">     1</td><td style=\"text-align: right;\">     0.000647783</td><td style=\"text-align: right;\"> 1.0001</td></tr>\n",
       "<tr><td>objective_6e374_00002</td><td>TERMINATED</td><td>172.25.226.29:11722</td><td style=\"text-align: right;\">0.1  </td><td style=\"text-align: right;\">  1</td><td style=\"text-align: right;\">     1</td><td style=\"text-align: right;\">     0.00849819 </td><td style=\"text-align: right;\"> 1.01  </td></tr>\n",
       "<tr><td>objective_6e374_00003</td><td>TERMINATED</td><td>172.25.226.29:11724</td><td style=\"text-align: right;\">1    </td><td style=\"text-align: right;\">  3</td><td style=\"text-align: right;\">     1</td><td style=\"text-align: right;\">     0.000188589</td><td style=\"text-align: right;\"> 4     </td></tr>\n",
       "</tbody>\n",
       "</table>\n",
       "  </div>\n",
       "</div>\n",
       "<style>\n",
       ".tuneStatus {\n",
       "  color: var(--jp-ui-font-color1);\n",
       "}\n",
       ".tuneStatus .systemInfo {\n",
       "  display: flex;\n",
       "  flex-direction: column;\n",
       "}\n",
       ".tuneStatus td {\n",
       "  white-space: nowrap;\n",
       "}\n",
       ".tuneStatus .trialStatus {\n",
       "  display: flex;\n",
       "  flex-direction: column;\n",
       "}\n",
       ".tuneStatus h3 {\n",
       "  font-weight: bold;\n",
       "}\n",
       ".tuneStatus .hDivider {\n",
       "  border-bottom-width: var(--jp-border-width);\n",
       "  border-bottom-color: var(--jp-border-color0);\n",
       "  border-bottom-style: solid;\n",
       "}\n",
       ".tuneStatus .vDivider {\n",
       "  border-left-width: var(--jp-border-width);\n",
       "  border-left-color: var(--jp-border-color0);\n",
       "  border-left-style: solid;\n",
       "  margin: 0.5em 1em 0.5em 1em;\n",
       "}\n",
       "</style>\n"
      ],
      "text/plain": [
       "<IPython.core.display.HTML object>"
      ]
     },
     "metadata": {},
     "output_type": "display_data"
    },
    {
     "data": {
      "text/html": [
       "<div class=\"trialProgress\">\n",
       "  <h3>Trial Progress</h3>\n",
       "  <table>\n",
       "<thead>\n",
       "<tr><th>Trial name           </th><th>date               </th><th>done  </th><th>episodes_total  </th><th>experiment_id                   </th><th>experiment_tag  </th><th>hostname  </th><th style=\"text-align: right;\">  iterations_since_restore</th><th>node_ip      </th><th style=\"text-align: right;\">  pid</th><th style=\"text-align: right;\">  score</th><th style=\"text-align: right;\">  time_since_restore</th><th style=\"text-align: right;\">  time_this_iter_s</th><th style=\"text-align: right;\">  time_total_s</th><th style=\"text-align: right;\">  timestamp</th><th style=\"text-align: right;\">  timesteps_since_restore</th><th>timesteps_total  </th><th style=\"text-align: right;\">  training_iteration</th><th>trial_id   </th><th style=\"text-align: right;\">  warmup_time</th></tr>\n",
       "</thead>\n",
       "<tbody>\n",
       "<tr><td>objective_6e374_00000</td><td>2023-11-13_22-38-59</td><td>True  </td><td>                </td><td>b6e7dd1f43d24fd6a2077305b0f84164</td><td>0_a=0.0010,b=2  </td><td>Coral     </td><td style=\"text-align: right;\">                         1</td><td>172.25.226.29</td><td style=\"text-align: right;\">11664</td><td style=\"text-align: right;\"> 2     </td><td style=\"text-align: right;\">         0.000207424</td><td style=\"text-align: right;\">       0.000207424</td><td style=\"text-align: right;\">   0.000207424</td><td style=\"text-align: right;\"> 1699915139</td><td style=\"text-align: right;\">                        0</td><td>                 </td><td style=\"text-align: right;\">                   1</td><td>6e374_00000</td><td style=\"text-align: right;\">   0.00405216</td></tr>\n",
       "<tr><td>objective_6e374_00001</td><td>2023-11-13_22-39-01</td><td>True  </td><td>                </td><td>9fb8d78b903642d8b4bd902c98359f8a</td><td>1_a=0.0100,b=1  </td><td>Coral     </td><td style=\"text-align: right;\">                         1</td><td>172.25.226.29</td><td style=\"text-align: right;\">11721</td><td style=\"text-align: right;\"> 1.0001</td><td style=\"text-align: right;\">         0.000647783</td><td style=\"text-align: right;\">       0.000647783</td><td style=\"text-align: right;\">   0.000647783</td><td style=\"text-align: right;\"> 1699915141</td><td style=\"text-align: right;\">                        0</td><td>                 </td><td style=\"text-align: right;\">                   1</td><td>6e374_00001</td><td style=\"text-align: right;\">   0.0114338 </td></tr>\n",
       "<tr><td>objective_6e374_00002</td><td>2023-11-13_22-39-01</td><td>True  </td><td>                </td><td>717ecd991e7643b9949b3d37e00ec9bb</td><td>2_a=0.1000,b=1  </td><td>Coral     </td><td style=\"text-align: right;\">                         1</td><td>172.25.226.29</td><td style=\"text-align: right;\">11722</td><td style=\"text-align: right;\"> 1.01  </td><td style=\"text-align: right;\">         0.00849819 </td><td style=\"text-align: right;\">       0.00849819 </td><td style=\"text-align: right;\">   0.00849819 </td><td style=\"text-align: right;\"> 1699915141</td><td style=\"text-align: right;\">                        0</td><td>                 </td><td style=\"text-align: right;\">                   1</td><td>6e374_00002</td><td style=\"text-align: right;\">   0.0223033 </td></tr>\n",
       "<tr><td>objective_6e374_00003</td><td>2023-11-13_22-39-01</td><td>True  </td><td>                </td><td>10381c2808cb4639b95af72894c802a9</td><td>3_a=1.0000,b=3  </td><td>Coral     </td><td style=\"text-align: right;\">                         1</td><td>172.25.226.29</td><td style=\"text-align: right;\">11724</td><td style=\"text-align: right;\"> 4     </td><td style=\"text-align: right;\">         0.000188589</td><td style=\"text-align: right;\">       0.000188589</td><td style=\"text-align: right;\">   0.000188589</td><td style=\"text-align: right;\"> 1699915141</td><td style=\"text-align: right;\">                        0</td><td>                 </td><td style=\"text-align: right;\">                   1</td><td>6e374_00003</td><td style=\"text-align: right;\">   0.00532198</td></tr>\n",
       "</tbody>\n",
       "</table>\n",
       "</div>\n",
       "<style>\n",
       ".trialProgress {\n",
       "  display: flex;\n",
       "  flex-direction: column;\n",
       "  color: var(--jp-ui-font-color1);\n",
       "}\n",
       ".trialProgress h3 {\n",
       "  font-weight: bold;\n",
       "}\n",
       ".trialProgress td {\n",
       "  white-space: nowrap;\n",
       "}\n",
       "</style>\n"
      ],
      "text/plain": [
       "<IPython.core.display.HTML object>"
      ]
     },
     "metadata": {},
     "output_type": "display_data"
    },
    {
     "name": "stderr",
     "output_type": "stream",
     "text": [
      "2023-11-13 22:39:02,050\tINFO tune.py:798 -- Total run time: 5.36 seconds (4.09 seconds for the tuning loop).\n"
     ]
    }
   ],
   "source": [
    "# %%viztracer\n",
    "from ray import train, tune\n",
    "\n",
    "\n",
    "def objective(config):  # ①\n",
    "    score = config[\"a\"] ** 2 + config[\"b\"]\n",
    "    return {\"score\": score}\n",
    "\n",
    "\n",
    "search_space = {  # ②\n",
    "    \"a\": tune.grid_search([0.001, 0.01, 0.1, 1.0]),\n",
    "    \"b\": tune.choice([1, 2, 3]),\n",
    "}\n",
    "tuner = tune.Tuner(objective, param_space=search_space)  # ③\n",
    "results = tuner.fit()"
   ]
  },
  {
   "cell_type": "code",
   "execution_count": 4,
   "metadata": {},
   "outputs": [
    {
     "data": {
      "text/html": [
       "<table>\n",
       "<tbody>\n",
       "<tr><td>Current time:</td><td>1    </td></tr>\n",
       "<tr><td>Running for: </td><td>2    </td></tr>\n",
       "<tr><td>Memory:      </td><td>3 GiB</td></tr>\n",
       "</tbody>\n",
       "</table>"
      ],
      "text/plain": [
       "'<table>\\n<tbody>\\n<tr><td>Current time:</td><td>1    </td></tr>\\n<tr><td>Running for: </td><td>2    </td></tr>\\n<tr><td>Memory:      </td><td>3 GiB</td></tr>\\n</tbody>\\n</table>'"
      ]
     },
     "execution_count": 4,
     "metadata": {},
     "output_type": "execute_result"
    }
   ],
   "source": [
    "# tabulate is used in Ray, just to confirm that it is not the problem of tabulate\n",
    "from tabulate import tabulate\n",
    "\n",
    "status_table = tabulate(\n",
    "    [\n",
    "        (\"Current time:\", 1),\n",
    "        (\"Running for:\", 2),\n",
    "        (\"Memory:\", f\"3 GiB\"),\n",
    "    ],\n",
    "    tablefmt=\"html\",\n",
    ")\n",
    "status_table"
   ]
  },
  {
   "cell_type": "code",
   "execution_count": null,
   "metadata": {},
   "outputs": [],
   "source": []
  }
 ],
 "metadata": {
  "kernelspec": {
   "display_name": "py310",
   "language": "python",
   "name": "python3"
  },
  "language_info": {
   "codemirror_mode": {
    "name": "ipython",
    "version": 3
   },
   "file_extension": ".py",
   "mimetype": "text/x-python",
   "name": "python",
   "nbconvert_exporter": "python",
   "pygments_lexer": "ipython3",
   "version": "3.10.9"
  }
 },
 "nbformat": 4,
 "nbformat_minor": 2
}
