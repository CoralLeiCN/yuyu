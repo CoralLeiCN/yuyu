{
 "cells": [
  {
   "cell_type": "markdown",
   "metadata": {},
   "source": [
    "URL\n",
    "https://stackoverflow.com/questions/77479119/calculating-groupby-sum-of-values-on-column-based-on-string-in-pandas/77479422#77479422"
   ]
  },
  {
   "cell_type": "code",
   "execution_count": 1,
   "metadata": {},
   "outputs": [],
   "source": [
    "import pandas as pd\n",
    "\n",
    "data = {\n",
    "    \"SYMBOL\": [\"AAAA\", \"AAAA\", \"AAAA\", \"AAAA\", \"AAAA\", \"AAAA\", \"AAAA\"],\n",
    "    \"EXPIRYDT\": [\n",
    "        \"26-Oct-23\",\n",
    "        \"26-Oct-23\",\n",
    "        \"26-Oct-23\",\n",
    "        \"26-Oct-23\",\n",
    "        \"26-Oct-23\",\n",
    "        \"26-Oct-23\",\n",
    "        \"26-Oct-23\",\n",
    "    ],\n",
    "    \"STRIKE\": [480, 500, 525, 425, 450, 480, 500],\n",
    "    \"TYPE\": [\"CE\", \"CE\", \"CE\", \"PE\", \"PE\", \"PE\", \"PE\"],\n",
    "    \"CONTRACTS\": [1, 31, 1, 0, 12, 2, 6],\n",
    "    \"OPENINT\": [4000, 25000, 1000, 1000, 64000, 2000, 5000],\n",
    "    \"TIMESTAMP\": [\n",
    "        \"4-Sep-23\",\n",
    "        \"4-Sep-23\",\n",
    "        \"4-Sep-23\",\n",
    "        \"4-Sep-23\",\n",
    "        \"4-Sep-23\",\n",
    "        \"4-Sep-23\",\n",
    "        \"4-Sep-23\",\n",
    "    ],\n",
    "}\n",
    "\n",
    "df = pd.DataFrame(data)\n",
    "result = df.groupby([\"EXPIRYDT\", \"TYPE\"])\n",
    "agg_dict = {\"OPENINT\": \"sum\", \"CONTRACTS\": \"sum\"}\n",
    "\n",
    "# calculate the sum by 'EXPIRYDT', 'TYPE'\n",
    "result = pd.DataFrame(result.agg(agg_dict).stack()).reset_index()\n",
    "# combined type and sum variable\n",
    "result[\"TYPE\"] = result[\"TYPE\"] + \"_\" + result[\"level_2\"]\n",
    "result = result.drop(\"level_2\", axis=1)\n",
    "# row to column\n",
    "result = result.set_index(\n",
    "    [\n",
    "        \"EXPIRYDT\",\n",
    "        \"TYPE\",\n",
    "    ]\n",
    ").unstack(\n",
    "    \"TYPE\"\n",
    ")[0]\n",
    "join_key = \"EXPIRYDT\"\n",
    "df = pd.merge(df, result, on=join_key)"
   ]
  },
  {
   "cell_type": "code",
   "execution_count": 2,
   "metadata": {},
   "outputs": [
    {
     "name": "stdout",
     "output_type": "stream",
     "text": [
      "  SYMBOL   EXPIRYDT  STRIKE TYPE  CONTRACTS  OPENINT TIMESTAMP  CE_CONTRACTS  \\\n",
      "0   AAAA  26-Oct-23     480   CE          1     4000  4-Sep-23            33   \n",
      "1   AAAA  26-Oct-23     500   CE         31    25000  4-Sep-23            33   \n",
      "2   AAAA  26-Oct-23     525   CE          1     1000  4-Sep-23            33   \n",
      "3   AAAA  26-Oct-23     425   PE          0     1000  4-Sep-23            33   \n",
      "4   AAAA  26-Oct-23     450   PE         12    64000  4-Sep-23            33   \n",
      "5   AAAA  26-Oct-23     480   PE          2     2000  4-Sep-23            33   \n",
      "6   AAAA  26-Oct-23     500   PE          6     5000  4-Sep-23            33   \n",
      "\n",
      "   CE_OPENINT  PE_CONTRACTS  PE_OPENINT  \n",
      "0       30000            20       72000  \n",
      "1       30000            20       72000  \n",
      "2       30000            20       72000  \n",
      "3       30000            20       72000  \n",
      "4       30000            20       72000  \n",
      "5       30000            20       72000  \n",
      "6       30000            20       72000  \n"
     ]
    }
   ],
   "source": [
    "print(df)"
   ]
  },
  {
   "cell_type": "code",
   "execution_count": null,
   "metadata": {},
   "outputs": [],
   "source": []
  }
 ],
 "metadata": {
  "kernelspec": {
   "display_name": "py310",
   "language": "python",
   "name": "python3"
  },
  "language_info": {
   "codemirror_mode": {
    "name": "ipython",
    "version": 3
   },
   "file_extension": ".py",
   "mimetype": "text/x-python",
   "name": "python",
   "nbconvert_exporter": "python",
   "pygments_lexer": "ipython3",
   "version": "3.10.9"
  }
 },
 "nbformat": 4,
 "nbformat_minor": 2
}
