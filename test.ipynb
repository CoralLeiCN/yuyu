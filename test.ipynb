{
 "cells": [
  {
   "cell_type": "code",
   "execution_count": 22,
   "metadata": {},
   "outputs": [
    {
     "data": {
      "text/html": [
       "\n",
       "<style>\n",
       "    :root {\n",
       "        --jp-ui-font-color0: #f5f0f0;\n",
       "    }\n",
       "</style>\n"
      ],
      "text/plain": [
       "<IPython.core.display.HTML object>"
      ]
     },
     "metadata": {},
     "output_type": "display_data"
    }
   ],
   "source": []
  },
  {
   "cell_type": "code",
   "execution_count": 23,
   "metadata": {},
   "outputs": [
    {
     "name": "stdout",
     "output_type": "stream",
     "text": [
      "1\n"
     ]
    }
   ],
   "source": [
    "print(1)"
   ]
  },
  {
   "cell_type": "code",
   "execution_count": 24,
   "metadata": {},
   "outputs": [
    {
     "data": {
      "text/html": [
       "var --jp-ui-font-color0 = #ffffff;\n",
       "<div class=\"vDivider\"></div>\n",
       "<div class=\"messages\">\n",
       "    <h3>Messages</h3>\n",
       "    {{ memory_message }}\n",
       "    {{ trial_progress_messages }}\n",
       "    {{ trial_errors }}\n",
       "</div>\n",
       "<style>\n",
       "    .messages {\n",
       "        color: var(--jp-ui-font-color0);\n",
       "        display: flex;\n",
       "        flex-direction: column;\n",
       "        padding-left: 1em;\n",
       "        overflow-y: auto;\n",
       "    }\n",
       "\n",
       "    .messages h3 {\n",
       "        font-weight: bold;\n",
       "    }\n",
       "\n",
       "    .vDivider {\n",
       "        border-left-width: var(--jp-border-width);\n",
       "        border-left-color: var(--jp-border-color0);\n",
       "        border-left-style: solid;\n",
       "        margin: 0.5em 1em 0.5em 1em;\n",
       "    }\n",
       "</style>\n"
      ],
      "text/plain": [
       "<IPython.core.display.HTML object>"
      ]
     },
     "metadata": {},
     "output_type": "display_data"
    }
   ],
   "source": [
    "%%html\n",
    "var --jp-ui-font-color0 = #ffffff;\n",
    "<div class=\"vDivider\"></div>\n",
    "<div class=\"messages\">\n",
    "    <h3>Messages</h3>\n",
    "    {{ memory_message }}\n",
    "    {{ trial_progress_messages }}\n",
    "    {{ trial_errors }}\n",
    "</div>\n",
    "<style>\n",
    "    .messages {\n",
    "        color: var(--jp-ui-font-color0);\n",
    "        display: flex;\n",
    "        flex-direction: column;\n",
    "        padding-left: 1em;\n",
    "        overflow-y: auto;\n",
    "    }\n",
    "\n",
    "    .messages h3 {\n",
    "        font-weight: bold;\n",
    "    }\n",
    "\n",
    "    .vDivider {\n",
    "        border-left-width: var(--jp-border-width);\n",
    "        border-left-color: var(--jp-border-color0);\n",
    "        border-left-style: solid;\n",
    "        margin: 0.5em 1em 0.5em 1em;\n",
    "    }\n",
    "</style>\n"
   ]
  },
  {
   "cell_type": "markdown",
   "metadata": {},
   "source": []
  },
  {
   "cell_type": "code",
   "execution_count": null,
   "metadata": {},
   "outputs": [],
   "source": []
  },
  {
   "cell_type": "code",
   "execution_count": null,
   "metadata": {},
   "outputs": [],
   "source": []
  }
 ],
 "metadata": {
  "kernelspec": {
   "display_name": "Python 3 (ipykernel)",
   "language": "python",
   "name": "python3"
  },
  "language_info": {
   "codemirror_mode": {
    "name": "ipython",
    "version": 3
   },
   "file_extension": ".py",
   "mimetype": "text/x-python",
   "name": "python",
   "nbconvert_exporter": "python",
   "pygments_lexer": "ipython3",
   "version": "3.10.9"
  }
 },
 "nbformat": 4,
 "nbformat_minor": 2
}
